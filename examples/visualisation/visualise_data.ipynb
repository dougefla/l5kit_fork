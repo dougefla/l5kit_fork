{
 "cells": [
  {
   "cell_type": "markdown",
   "metadata": {
    "id": "swFeGE9Hu-eF"
   },
   "source": [
    "# Visualisation Examples\n",
    "\n",
    "This notebook shows some of the visualisation utility of our toolkit.\n",
    "\n",
    "The core packages for visualisation are:\n",
    "### `rasterization`\n",
    "contains classes for getting visual data as multi-channel tensors and turning them into interpretable RGB images.\n",
    "Every class has at least a `rasterize` method to get the tensor and a `to_rgb` method to convert it into an image.\n",
    "A few examples are:\n",
    "- `BoxRasterizer`: this object renders agents (e.g. vehicles or pedestrians) as oriented 2D boxes\n",
    "- `SatelliteRasterizer`: this object renders an oriented crop from a satellite map\n",
    "\n",
    "### `visualization`\n",
    "contains utilities to draw additional information (e.g. trajectories) onto RGB images. These utilities are commonly used after a `to_rgb` call to add other information to the final visualisation. \n",
    "One example is:\n",
    "- `draw_trajectory`: this function draws 2D trajectories from coordinates and yaws offset on an image\n"
   ]
  },
  {
   "cell_type": "code",
   "execution_count": 7,
   "metadata": {
    "cellView": "form",
    "id": "-2bOYHKU1tw2"
   },
   "outputs": [
    {
     "name": "stdout",
     "output_type": "stream",
     "text": [
      "Not running in Google Colab.\n"
     ]
    }
   ],
   "source": [
    "#@title Download L5 Sample Dataset and install L5Kit\n",
    "import os\n",
    "RunningInCOLAB = 'google.colab' in str(get_ipython())\n",
    "if RunningInCOLAB:\n",
    "    !wget https://raw.githubusercontent.com/lyft/l5kit/master/examples/setup_notebook_colab.sh -q\n",
    "    !sh ./setup_notebook_colab.sh\n",
    "    os.environ[\"L5KIT_DATA_FOLDER\"] = open(\"./dataset_dir.txt\", \"r\").read().strip()\n",
    "else:\n",
    "    os.environ[\"L5KIT_DATA_FOLDER\"] = \"/home/fla/workspace/l5kit_data\"\n",
    "    print(\"Not running in Google Colab.\")"
   ]
  },
  {
   "cell_type": "code",
   "execution_count": 3,
   "metadata": {
    "id": "Xkf2xhE7u-eJ"
   },
   "outputs": [],
   "source": [
    "import matplotlib.pyplot as plt\n",
    "\n",
    "import numpy as np\n",
    "\n",
    "from l5kit.data import ChunkedDataset, LocalDataManager\n",
    "from l5kit.dataset import EgoDataset, AgentDataset\n",
    "\n",
    "from l5kit.rasterization import build_rasterizer\n",
    "from l5kit.configs import load_config_data\n",
    "from l5kit.visualization import draw_trajectory, TARGET_POINTS_COLOR\n",
    "from l5kit.geometry import transform_points\n",
    "from tqdm import tqdm\n",
    "from collections import Counter\n",
    "from l5kit.data import PERCEPTION_LABELS\n",
    "from prettytable import PrettyTable\n",
    "\n",
    "import os\n",
    "\n",
    "from l5kit.visualization.visualizer.zarr_utils import zarr_to_visualizer_scene\n",
    "from l5kit.visualization.visualizer.visualizer import visualize\n",
    "from bokeh.io import output_notebook, show\n",
    "from l5kit.data import MapAPI"
   ]
  },
  {
   "cell_type": "markdown",
   "metadata": {
    "id": "sS6kZYksu-eK"
   },
   "source": [
    "### First, let's configure where our data lives!\n",
    "The data is expected to live in a folder that can be configured using the `L5KIT_DATA_FOLDER` env variable. You data folder is expected to contain subfolders for the aerial and semantic maps as well as the scenes (`.zarr` files). \n",
    "In this example, the env variable is set to the local data folder. You should make sure the path points to the correct location for you.\n",
    "\n",
    "We built our code to work with a human-readable `yaml` config. This config file holds much useful information, however, we will only focus on a few functionalities concerning loading and visualization here."
   ]
  },
  {
   "cell_type": "code",
   "execution_count": 4,
   "metadata": {
    "id": "zZwXO7Ybu-eK"
   },
   "outputs": [
    {
     "name": "stdout",
     "output_type": "stream",
     "text": [
      "{'format_version': 4, 'model_params': {'model_architecture': 'resnet50', 'history_num_frames': 0, 'future_num_frames': 50, 'step_time': 0.1, 'render_ego_history': True}, 'raster_params': {'raster_size': [224, 224], 'pixel_size': [0.5, 0.5], 'ego_center': [0.25, 0.5], 'map_type': 'py_semantic', 'satellite_map_key': 'aerial_map/aerial_map.png', 'semantic_map_key': 'semantic_map/semantic_map.pb', 'dataset_meta_key': 'meta.json', 'filter_agents_threshold': 0.5, 'disable_traffic_light_faces': False, 'set_origin_to_bottom': True}, 'val_data_loader': {'key': 'scenes/sample.zarr', 'batch_size': 12, 'shuffle': False, 'num_workers': 16}}\n"
     ]
    }
   ],
   "source": [
    "# Dataset is assumed to be on the folder specified\n",
    "# in the L5KIT_DATA_FOLDER environment variable\n",
    "\n",
    "# get config\n",
    "cfg = load_config_data(\"./visualisation_config.yaml\")\n",
    "print(cfg)"
   ]
  },
  {
   "cell_type": "markdown",
   "metadata": {
    "id": "xfMKTjgEu-eK"
   },
   "source": [
    "### We can look into our current configuration for interesting fields\n",
    "\n",
    "\\- when loaded in python, the `yaml`file is converted into a python `dict`. \n",
    "\n",
    "`raster_params` contains all the information related to the transformation of the 3D world onto an image plane:\n",
    "  - `raster_size`: the image plane size\n",
    "  - `pixel_size`: how many meters correspond to a pixel\n",
    "  - `ego_center`: our raster is centered around an agent, we can move the agent in the image plane with this param\n",
    "  - `map_type`: the rasterizer to be employed. We currently support a satellite-based and a semantic-based one. We will look at the differences further down in this script"
   ]
  },
  {
   "cell_type": "code",
   "execution_count": 5,
   "metadata": {
    "id": "GTu9RRD6u-eL"
   },
   "outputs": [
    {
     "name": "stdout",
     "output_type": "stream",
     "text": [
      "current raster_param:\n",
      "\n",
      "raster_size:[224, 224]\n",
      "pixel_size:[0.5, 0.5]\n",
      "ego_center:[0.25, 0.5]\n",
      "map_type:py_semantic\n",
      "satellite_map_key:aerial_map/aerial_map.png\n",
      "semantic_map_key:semantic_map/semantic_map.pb\n",
      "dataset_meta_key:meta.json\n",
      "filter_agents_threshold:0.5\n",
      "disable_traffic_light_faces:False\n",
      "set_origin_to_bottom:True\n"
     ]
    }
   ],
   "source": [
    "print(f'current raster_param:\\n')\n",
    "for k,v in cfg[\"raster_params\"].items():\n",
    "    print(f\"{k}:{v}\")"
   ]
  },
  {
   "cell_type": "markdown",
   "metadata": {
    "id": "TmvxVhQRu-eL"
   },
   "source": [
    "## Load the data\n",
    "\n",
    "The same config file is also used to load the data. Every split in the data has its own section, and multiple datasets can be used (as a whole or sliced). In this short example we will only use the first dataset from the `sample` set. You can change this by configuring the 'train_data_loader' variable in the config.\n",
    "\n",
    "You may also have noticed that we're building a `LocalDataManager` object. This will resolve relative paths from the config using the `L5KIT_DATA_FOLDER` env variable we have just set."
   ]
  },
  {
   "cell_type": "code",
   "execution_count": 8,
   "metadata": {
    "id": "fSuf-o1fu-eL"
   },
   "outputs": [
    {
     "name": "stdout",
     "output_type": "stream",
     "text": [
      "+------------+------------+------------+---------------+-----------------+----------------------+----------------------+----------------------+---------------------+\n",
      "| Num Scenes | Num Frames | Num Agents | Num TR lights | Total Time (hr) | Avg Frames per Scene | Avg Agents per Frame | Avg Scene Time (sec) | Avg Frame frequency |\n",
      "+------------+------------+------------+---------------+-----------------+----------------------+----------------------+----------------------+---------------------+\n",
      "|    100     |   24838    |  1893736   |     316008    |       0.69      |        248.38        |        76.24         |        24.83         |        10.00        |\n",
      "+------------+------------+------------+---------------+-----------------+----------------------+----------------------+----------------------+---------------------+\n"
     ]
    }
   ],
   "source": [
    "dm = LocalDataManager()\n",
    "dataset_path = dm.require(cfg[\"val_data_loader\"][\"key\"])\n",
    "zarr_dataset = ChunkedDataset(dataset_path)\n",
    "zarr_dataset.open()\n",
    "print(zarr_dataset)"
   ]
  },
  {
   "cell_type": "markdown",
   "metadata": {
    "id": "LkYsmiX8u-eL"
   },
   "source": [
    "## Working with the raw data\n",
    "\n",
    "`.zarr` files support most of the traditional numpy array operations. In the following cell we iterate over the frames to get a scatter plot of the AV locations:"
   ]
  },
  {
   "cell_type": "code",
   "execution_count": 9,
   "metadata": {
    "id": "zx6X7Hb4u-eL"
   },
   "outputs": [
    {
     "name": "stderr",
     "output_type": "stream",
     "text": [
      "getting centroid to plot trajectory: 100%|██████████| 24838/24838 [00:32<00:00, 754.54it/s]\n"
     ]
    },
    {
     "data": {
      "text/plain": [
       "(-2500.0, 1600.0)"
      ]
     },
     "execution_count": 9,
     "metadata": {},
     "output_type": "execute_result"
    },
    {
     "data": {
      "image/png": "[encoded data removed]",
      "text/plain": [
       "<Figure size 432x288 with 1 Axes>"
      ]
     },
     "metadata": {
      "needs_background": "light"
     },
     "output_type": "display_data"
    }
   ],
   "source": [
    "frames = zarr_dataset.frames\n",
    "coords = np.zeros((len(frames), 2))\n",
    "for idx_coord, idx_data in enumerate(tqdm(range(len(frames)), desc=\"getting centroid to plot trajectory\")):\n",
    "    frame = zarr_dataset.frames[idx_data]\n",
    "    coords[idx_coord] = frame[\"ego_translation\"][:2]\n",
    "\n",
    "\n",
    "plt.scatter(coords[:, 0], coords[:, 1], marker='.')\n",
    "axes = plt.gca()\n",
    "axes.set_xlim([-2500, 1600])\n",
    "axes.set_ylim([-2500, 1600])"
   ]
  },
  {
   "cell_type": "markdown",
   "metadata": {
    "id": "zG5NNUtNu-eM"
   },
   "source": [
    "Another easy thing to try is to get an idea of the agents types distribution. \n",
    "\n",
    "We can get all the agents `label_probabilities` and get the argmax for each raw. because `.zarr` files map to numpy array we can use all the traditional numpy operations and functions."
   ]
  },
  {
   "cell_type": "code",
   "execution_count": 10,
   "metadata": {
    "id": "s31SlObxu-eM"
   },
   "outputs": [
    {
     "name": "stdout",
     "output_type": "stream",
     "text": [
      "+------------------------------------+---------+\n",
      "|               label                |  counts |\n",
      "+------------------------------------+---------+\n",
      "|      PERCEPTION_LABEL_NOT_SET      |    0    |\n",
      "|      PERCEPTION_LABEL_UNKNOWN      | 1324481 |\n",
      "|     PERCEPTION_LABEL_DONTCARE      |    0    |\n",
      "|        PERCEPTION_LABEL_CAR        |  519385 |\n",
      "|        PERCEPTION_LABEL_VAN        |    0    |\n",
      "|       PERCEPTION_LABEL_TRAM        |    0    |\n",
      "|        PERCEPTION_LABEL_BUS        |    0    |\n",
      "|       PERCEPTION_LABEL_TRUCK       |    0    |\n",
      "| PERCEPTION_LABEL_EMERGENCY_VEHICLE |    0    |\n",
      "|   PERCEPTION_LABEL_OTHER_VEHICLE   |    0    |\n",
      "|      PERCEPTION_LABEL_BICYCLE      |    0    |\n",
      "|    PERCEPTION_LABEL_MOTORCYCLE     |    0    |\n",
      "|      PERCEPTION_LABEL_CYCLIST      |   6688  |\n",
      "|   PERCEPTION_LABEL_MOTORCYCLIST    |    0    |\n",
      "|    PERCEPTION_LABEL_PEDESTRIAN     |  43182  |\n",
      "|      PERCEPTION_LABEL_ANIMAL       |    0    |\n",
      "|     AVRESEARCH_LABEL_DONTCARE      |    0    |\n",
      "+------------------------------------+---------+\n"
     ]
    }
   ],
   "source": [
    "agents = zarr_dataset.agents\n",
    "probabilities = agents[\"label_probabilities\"]\n",
    "labels_indexes = np.argmax(probabilities, axis=1)\n",
    "counts = []\n",
    "for idx_label, label in enumerate(PERCEPTION_LABELS):\n",
    "    counts.append(np.sum(labels_indexes == idx_label))\n",
    "    \n",
    "table = PrettyTable(field_names=[\"label\", \"counts\"])\n",
    "for count, label in zip(counts, PERCEPTION_LABELS):\n",
    "    table.add_row([label, count])\n",
    "print(table)"
   ]
  },
  {
   "cell_type": "markdown",
   "metadata": {
    "id": "1ug64ia6u-eM"
   },
   "source": [
    "## Working with data abstraction\n",
    "\n",
    "Even though it's absolutely fine to work with the raw data, we also provide classes that abstract data access to offer an easier way to generate inputs and targets.\n",
    "\n",
    "### Core Objects\n",
    "Along with the `rasterizer`, our toolkit contains other classes you may want to use while you build your solution. The `dataset` package, for example, already implements `PyTorch` ready datasets, so you can hit the ground running and start coding immediately.\n",
    "\n",
    "### Dataset package\n",
    "We will use two classes from the `dataset` package for this example. Both of them can be iterated and return multi-channel images from the rasterizer along with future trajectories offsets and other information.\n",
    "- `EgoDataset`: this dataset iterates over the AV annotations\n",
    "- `AgentDataset`: this dataset iterates over other agents annotations\n",
    "\n",
    "Both support multi-threading (through PyTorch DataLoader) OOB."
   ]
  },
  {
   "cell_type": "code",
   "execution_count": 11,
   "metadata": {
    "id": "EeyavHW5u-eM"
   },
   "outputs": [
    {
     "name": "stdout",
     "output_type": "stream",
     "text": [
      "my rasterizer builder!\n"
     ]
    }
   ],
   "source": [
    "rast = build_rasterizer(cfg, dm)\n",
    "dataset = EgoDataset(cfg, zarr_dataset, rast)"
   ]
  },
  {
   "cell_type": "markdown",
   "metadata": {
    "id": "D2lFtn-zu-eN"
   },
   "source": [
    "## What if I want to visualise the Autonomous Vehicle (AV)?\n",
    "\n",
    "Let's get a sample from the dataset and use our `rasterizer` to get an RGB image we can plot. \n",
    "\n",
    "If we want to plot the ground truth trajectory, we can convert the dataset's `target_position` (displacements in meters in agent coordinates) into pixel coordinates in the image space, and call our utility function `draw_trajectory` (note that you can use this function for the predicted trajectories, as well)."
   ]
  },
  {
   "cell_type": "code",
   "execution_count": 12,
   "metadata": {
    "id": "mvAlKr8Vu-eN"
   },
   "outputs": [
    {
     "ename": "KeyError",
     "evalue": "'image'",
     "output_type": "error",
     "traceback": [
      "\u001b[0;31m---------------------------------------------------------------------------\u001b[0m",
      "\u001b[0;31mKeyError\u001b[0m                                  Traceback (most recent call last)",
      "Input \u001b[0;32mIn [12]\u001b[0m, in \u001b[0;36m<module>\u001b[0;34m\u001b[0m\n\u001b[1;32m      1\u001b[0m data \u001b[38;5;241m=\u001b[39m dataset[\u001b[38;5;241m50\u001b[39m]\n\u001b[0;32m----> 3\u001b[0m im \u001b[38;5;241m=\u001b[39m \u001b[43mdata\u001b[49m\u001b[43m[\u001b[49m\u001b[38;5;124;43m\"\u001b[39;49m\u001b[38;5;124;43mimage\u001b[39;49m\u001b[38;5;124;43m\"\u001b[39;49m\u001b[43m]\u001b[49m\u001b[38;5;241m.\u001b[39mtranspose(\u001b[38;5;241m1\u001b[39m, \u001b[38;5;241m2\u001b[39m, \u001b[38;5;241m0\u001b[39m)\n\u001b[1;32m      4\u001b[0m im \u001b[38;5;241m=\u001b[39m dataset\u001b[38;5;241m.\u001b[39mrasterizer\u001b[38;5;241m.\u001b[39mto_rgb(im)\n\u001b[1;32m      5\u001b[0m target_positions_pixels \u001b[38;5;241m=\u001b[39m transform_points(data[\u001b[38;5;124m\"\u001b[39m\u001b[38;5;124mtarget_positions\u001b[39m\u001b[38;5;124m\"\u001b[39m], data[\u001b[38;5;124m\"\u001b[39m\u001b[38;5;124mraster_from_agent\u001b[39m\u001b[38;5;124m\"\u001b[39m])\n",
      "\u001b[0;31mKeyError\u001b[0m: 'image'"
     ]
    }
   ],
   "source": [
    "data = dataset[50]\n",
    "\n",
    "im = data[\"image\"].transpose(1, 2, 0)\n",
    "im = dataset.rasterizer.to_rgb(im)\n",
    "target_positions_pixels = transform_points(data[\"target_positions\"], data[\"raster_from_agent\"])\n",
    "draw_trajectory(im, target_positions_pixels, TARGET_POINTS_COLOR, yaws=data[\"target_yaws\"])\n",
    "\n",
    "plt.imshow(im)\n",
    "plt.show()"
   ]
  },
  {
   "cell_type": "markdown",
   "metadata": {
    "id": "VjoW9U1au-eN"
   },
   "source": [
    "## What if I want to change the rasterizer?\n",
    "\n",
    "We can do so easily by building a new rasterizer and new dataset for it. In this example, we change the value to `py_satellite` which renders boxes on an aerial image."
   ]
  },
  {
   "cell_type": "code",
   "execution_count": null,
   "metadata": {
    "id": "7PVnOk9Wu-eN"
   },
   "outputs": [],
   "source": [
    "cfg[\"raster_params\"][\"map_type\"] = \"py_satellite\"\n",
    "rast = build_rasterizer(cfg, dm)\n",
    "dataset = EgoDataset(cfg, zarr_dataset, rast)\n",
    "data = dataset[50]\n",
    "\n",
    "im = data[\"image\"].transpose(1, 2, 0)\n",
    "im = dataset.rasterizer.to_rgb(im)\n",
    "target_positions_pixels = transform_points(data[\"target_positions\"], data[\"raster_from_agent\"])\n",
    "draw_trajectory(im, target_positions_pixels, TARGET_POINTS_COLOR, yaws=data[\"target_yaws\"])\n",
    "\n",
    "plt.imshow(im)\n",
    "plt.show()"
   ]
  },
  {
   "cell_type": "markdown",
   "metadata": {
    "id": "05uDhF5su-eO"
   },
   "source": [
    "## What if I want to visualise an agent?\n",
    "\n",
    "Glad you asked! We can just replace the `EgoDataset` with an `AgentDataset`. Now we're iterating over agents and not the AV anymore, and the first one happens to be the pace car (you will see this one around a lot in the dataset)."
   ]
  },
  {
   "cell_type": "code",
   "execution_count": null,
   "metadata": {
    "id": "ofI0bBXiu-eO"
   },
   "outputs": [],
   "source": [
    "dataset = AgentDataset(cfg, zarr_dataset, rast)\n",
    "data = dataset[0]\n",
    "\n",
    "im = data[\"image\"].transpose(1, 2, 0)\n",
    "im = dataset.rasterizer.to_rgb(im)\n",
    "target_positions_pixels = transform_points(data[\"target_positions\"], data[\"raster_from_agent\"])\n",
    "draw_trajectory(im, target_positions_pixels, TARGET_POINTS_COLOR, yaws=data[\"target_yaws\"])\n",
    "\n",
    "plt.imshow(im)\n",
    "plt.show()"
   ]
  },
  {
   "cell_type": "markdown",
   "metadata": {
    "id": "K27NrgJKu-eO"
   },
   "source": [
    "## System Origin and Orientation\n",
    "\n",
    "~At this point you may have noticed that we vertically flip the image before plotting it.~\n",
    "\n",
    "Vertical flipping is not required anymore as it's already performed inside the rasteriser.\n",
    "\n",
    "\n",
    "Further, all our rotations are counter-clockwise for positive value of the angle."
   ]
  },
  {
   "cell_type": "markdown",
   "metadata": {
    "id": "xVWp27SUu-eO"
   },
   "source": [
    "## How does an entire scene look like?\n",
    "\n",
    "It's easy to visualise an individual scene using our toolkit. Both `EgoDataset` and `AgentDataset` provide 2 methods for getting interesting indices:\n",
    "- `get_frame_indices` returns the indices for a given frame. For the `EgoDataset` this matches a single observation, while more than one index could be available for the `AgentDataset`, as that given frame may contain more than one valid agent\n",
    "- `get_scene_indices` returns indices for a given scene. For both datasets, these might return more than one index\n",
    "\n",
    "In this example, we visualise a scene from the ego's point of view:"
   ]
  },
  {
   "cell_type": "code",
   "execution_count": null,
   "metadata": {
    "id": "MKM_DmM0u-eO"
   },
   "outputs": [],
   "source": [
    "from IPython.display import display, clear_output\n",
    "import PIL\n",
    " \n",
    "cfg[\"raster_params\"][\"map_type\"] = \"py_semantic\"\n",
    "rast = build_rasterizer(cfg, dm)\n",
    "dataset = EgoDataset(cfg, zarr_dataset, rast)\n",
    "scene_idx = 1\n",
    "indexes = dataset.get_scene_indices(scene_idx)\n",
    "images = []\n",
    "\n",
    "for idx in indexes:\n",
    "    \n",
    "    data = dataset[idx]\n",
    "    im = data[\"image\"].transpose(1, 2, 0)\n",
    "    im = dataset.rasterizer.to_rgb(im)\n",
    "    target_positions_pixels = transform_points(data[\"target_positions\"], data[\"raster_from_agent\"])\n",
    "    center_in_pixels = np.asarray(cfg[\"raster_params\"][\"ego_center\"]) * cfg[\"raster_params\"][\"raster_size\"]\n",
    "    draw_trajectory(im, target_positions_pixels, TARGET_POINTS_COLOR, yaws=data[\"target_yaws\"])\n",
    "    clear_output(wait=True)\n",
    "    display(PIL.Image.fromarray(im))"
   ]
  },
  {
   "cell_type": "markdown",
   "metadata": {
    "id": "42dZn5re-HMF"
   },
   "source": [
    "# Introducing a new visualizer\n",
    "starting from l5kit `v1.3.0` you can now use an interactive visualiser (based on Bokeh) to inspect the scene.\n",
    "\n",
    "The visualization can be built starting from individual scenes and allows for a closer inspection over ego, agents and trajectories.\n",
    "\n",
    "`PRO TIP`: try to hover over one agent to show information about it"
   ]
  },
  {
   "cell_type": "code",
   "execution_count": null,
   "metadata": {
    "scrolled": false
   },
   "outputs": [],
   "source": [
    "output_notebook()\n",
    "mapAPI = MapAPI.from_cfg(dm, cfg)\n",
    "for scene_idx in range(10):\n",
    "    out = zarr_to_visualizer_scene(zarr_dataset.get_scene_dataset(scene_idx), mapAPI)\n",
    "    out_vis = visualize(scene_idx, out)\n",
    "    show(out_vis)"
   ]
  }
 ],
 "metadata": {
  "colab": {
   "collapsed_sections": [],
   "name": "Copy of visualise_data.ipynb",
   "provenance": []
  },
  "kernelspec": {
   "display_name": "Python 3",
   "language": "python",
   "name": "python3"
  },
  "language_info": {
   "codemirror_mode": {
    "name": "ipython",
    "version": 3
   },
   "file_extension": ".py",
   "mimetype": "text/x-python",
   "name": "python",
   "nbconvert_exporter": "python",
   "pygments_lexer": "ipython3",
   "version": "3.8.12"
  },
  "pycharm": {
   "stem_cell": {
    "cell_type": "raw",
    "metadata": {
     "collapsed": false
    },
    "source": []
   }
  }
 },
 "nbformat": 4,
 "nbformat_minor": 1
}
